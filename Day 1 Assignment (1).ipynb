{
 "cells": [
  {
   "cell_type": "code",
   "execution_count": 4,
   "metadata": {},
   "outputs": [
    {
     "name": "stdout",
     "output_type": "stream",
     "text": [
      "In District  Gwalior the percentage change in cases of Covid-19 during a period of three days from 10th June 2020 to 12th June 2020 is 8.333333333333332\n"
     ]
    }
   ],
   "source": [
    "district=\"Gwalior\"\n",
    "infected_total_till_date=1234\n",
    "infected_10_june=12\n",
    "infected_11_june=2\n",
    "infected_12_june=13\n",
    "percentage_change=(infected_12_june-infected_10_june)/infected_10_june*100\n",
    "print(\"In District  \"+district+\" the percentage change in cases of Covid-19 during a period of three days from 10th June 2020 to 12th June 2020 is \" +str(percentage_change))\n"
   ]
  },
  {
   "cell_type": "code",
   "execution_count": null,
   "metadata": {},
   "outputs": [],
   "source": []
  }
 ],
 "metadata": {
  "kernelspec": {
   "display_name": "Python 3",
   "language": "python",
   "name": "python3"
  },
  "language_info": {
   "codemirror_mode": {
    "name": "ipython",
    "version": 3
   },
   "file_extension": ".py",
   "mimetype": "text/x-python",
   "name": "python",
   "nbconvert_exporter": "python",
   "pygments_lexer": "ipython3",
   "version": "3.8.3"
  }
 },
 "nbformat": 4,
 "nbformat_minor": 4
}
